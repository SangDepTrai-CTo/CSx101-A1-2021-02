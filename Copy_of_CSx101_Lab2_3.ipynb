{
  "nbformat": 4,
  "nbformat_minor": 0,
  "metadata": {
    "colab": {
      "name": "Copy of CSx101.Lab2-3.ipynb",
      "provenance": [],
      "collapsed_sections": [],
      "include_colab_link": true
    },
    "kernelspec": {
      "name": "python3",
      "display_name": "Python 3"
    }
  },
  "cells": [
    {
      "cell_type": "markdown",
      "metadata": {
        "id": "view-in-github",
        "colab_type": "text"
      },
      "source": [
        "<a href=\"https://colab.research.google.com/github/SangDepTrai-CTo/CSx101-A1-2021-02/blob/main/Copy_of_CSx101_Lab2_3.ipynb\" target=\"_parent\"><img src=\"https://colab.research.google.com/assets/colab-badge.svg\" alt=\"Open In Colab\"/></a>"
      ]
    },
    {
      "cell_type": "markdown",
      "metadata": {
        "id": "qYjoagGcuYmq"
      },
      "source": [
        "# CSx101 - TƯ DUY LẬP TRÌNH VỚI PYTHON\n",
        "\n",
        "Lớp CSx101-A1"
      ]
    },
    {
      "cell_type": "markdown",
      "metadata": {
        "id": "9CUHdHZe1Q2F"
      },
      "source": [
        "## Số lớn nhất - nhỏ nhất của dãy số\n",
        "\n",
        "Viết hàm trả về số lớn nhất, và số nhỏ nhất của một dãy số"
      ]
    },
    {
      "cell_type": "code",
      "metadata": {
        "id": "Rk-3yHVazWf6",
        "colab": {
          "base_uri": "https://localhost:8080/"
        },
        "outputId": "b9bdb3f2-762a-4ed8-c373-1d6d61d46917"
      },
      "source": [
        "def findMinMax(arr):\n",
        "  # code của bạn ở đây\n",
        "  max=arr[0]\n",
        "  min = arr[0]\n",
        "  for i in range(len(arr)):\n",
        "    if(arr[i]>max):max = arr[i]\n",
        "    if(arr[i]<min):min=arr[i]\n",
        "  return min,max\n",
        "\n",
        "arr = [2, 3, 4, 6]\n",
        "\n",
        "min, max = findMinMax(arr)\n",
        "print(min)\n",
        "print(max)\n",
        "\n",
        "# Kết quả "
      ],
      "execution_count": null,
      "outputs": [
        {
          "output_type": "stream",
          "name": "stdout",
          "text": [
            "2\n",
            "6\n"
          ]
        }
      ]
    },
    {
      "cell_type": "markdown",
      "metadata": {
        "id": "nmHh7xWnhhp_"
      },
      "source": [
        "## Hoán đổi vị trí phần tử đầu và phần cuối của một dãy số\n",
        "\n",
        "Viết hoán đổi phần tử đầu và phần tử cuối của một dãy số\n",
        "\n",
        "Ví dụ:\n",
        "* Input: 1 2 3 4 5\n",
        "* Output: 5 2 3 4 1"
      ]
    },
    {
      "cell_type": "code",
      "metadata": {
        "id": "QfjAATq7zZLY",
        "colab": {
          "base_uri": "https://localhost:8080/"
        },
        "outputId": "8f5f7aa9-4376-4cb2-8c53-6de4d0c9c7ae"
      },
      "source": [
        "def swapList(arr):\n",
        "  # code của bạn ở đây\n",
        "  temp = arr[0]\n",
        "  arr[0] = arr[len(arr)-1]\n",
        "  arr[len(arr)-1]=temp\n",
        "  return arr\n",
        "arr=[1,2,3,4,5]\n",
        "print(swapList(arr))\n"
      ],
      "execution_count": null,
      "outputs": [
        {
          "output_type": "stream",
          "name": "stdout",
          "text": [
            "[5, 2, 3, 4, 1]\n"
          ]
        }
      ]
    },
    {
      "cell_type": "markdown",
      "metadata": {
        "id": "leCn2xFwubkR"
      },
      "source": [
        "## Kiểm tra một phần tử có trong dãy số \n",
        "\n",
        "Viết hàm kiểm tra một phần tử có trong dãy số cho trước hay không\n",
        "\n",
        "Ví dụ:\n",
        "* Input: dãy số 1, 2, 3, 4, 5 và phần tử cần kiểm tra là 9\n",
        "* Output: False"
      ]
    },
    {
      "cell_type": "code",
      "metadata": {
        "id": "N2uyMnza1Bkc",
        "colab": {
          "base_uri": "https://localhost:8080/"
        },
        "outputId": "3bad337e-1c6f-47d2-8f82-5377417ab959"
      },
      "source": [
        "def checkNumberExist(x, arr):\n",
        "  # code của bạn ở đây\n",
        "  for i in range(len(arr)):\n",
        "    if arr[i] == x : return True\n",
        "  return False\n",
        "arr=[1,2,3,4,5]\n",
        "x=9\n",
        "print(checkNumberExist(x,arr))\n",
        "\n",
        "\n"
      ],
      "execution_count": null,
      "outputs": [
        {
          "output_type": "stream",
          "name": "stdout",
          "text": [
            "False\n"
          ]
        }
      ]
    },
    {
      "cell_type": "markdown",
      "metadata": {
        "id": "mbBv-k2SkFVK"
      },
      "source": [
        "## Đảo ngược dãy số\n",
        "\n",
        "Viết hàm đảo ngược một dãy số\n",
        "\n",
        "Ví dụ: \n",
        "* Input: 1, 2, 3, 4, 5\n",
        "* Output: 5, 4, 3, 2, 1"
      ]
    },
    {
      "cell_type": "code",
      "metadata": {
        "id": "oz59rx9g1Fx6",
        "colab": {
          "base_uri": "https://localhost:8080/"
        },
        "outputId": "7d2d13f2-65da-4a5d-df2d-2d247bb79e39"
      },
      "source": [
        "\n",
        "def reverseList(arr):\n",
        "  # code của bạn ở đây\n",
        "  arr= arr.reverse()\n",
        "\n",
        "arr=[1,2,3,4,5]\n",
        "reverseList(arr)\n",
        "print(arr)\n"
      ],
      "execution_count": null,
      "outputs": [
        {
          "output_type": "stream",
          "name": "stdout",
          "text": [
            "[5, 4, 3, 2, 1]\n"
          ]
        }
      ]
    },
    {
      "cell_type": "markdown",
      "metadata": {
        "id": "CMIVvurg2OiU"
      },
      "source": [
        "## Số nguyên tố của dãy số\n",
        "\n",
        "Viết hàm trả về các số nguyên tố của một dãy số\n",
        "\n",
        "Ví dụ:\n",
        "* Input: 3, 7, 11, 12, 15\n",
        "* Output: 3, 7, 11"
      ]
    },
    {
      "cell_type": "code",
      "metadata": {
        "id": "-3ZMFj3r2TgX",
        "colab": {
          "base_uri": "https://localhost:8080/"
        },
        "outputId": "42755698-3fc8-4b57-f0d5-e621ad39db8e"
      },
      "source": [
        "import math\n",
        "def checkPrimeNumber(n):\n",
        "  # code của bạn ở đây\n",
        "  for i in range(2,int(n/2)):\n",
        "    if ((n % i)==0):return False\n",
        "  return True\n",
        "def findPrimeNumbers(arr):\n",
        "  # code của bạn ở đây\n",
        "  prime=[]\n",
        "  for i in range(len(arr)):\n",
        "    if checkPrimeNumber(arr[i])==True:prime.append(arr[i])\n",
        "  return prime\n",
        "arr = [3,7,11,12,15]\n",
        "findPrimeNumbers(arr)"
      ],
      "execution_count": 8,
      "outputs": [
        {
          "output_type": "execute_result",
          "data": {
            "text/plain": [
              "[3, 7, 11]"
            ]
          },
          "metadata": {},
          "execution_count": 8
        }
      ]
    },
    {
      "cell_type": "markdown",
      "metadata": {
        "id": "cCyfKs0q4h-X"
      },
      "source": [
        "## Đếm số lần xuất hiện của một phần tử trong dãy số\n",
        "\n",
        "Viết hàm đếm số lần xuất hiện của một phần tử trong dãy số\n",
        "\n",
        "Ví dụ:\n",
        "* Input: 1, 2, 4, 2, 6, 2, 5, 2 và 2\n",
        "* Output: 4 (số 2 xuất hiện 4 lần trong dãy số trên)\n"
      ]
    },
    {
      "cell_type": "code",
      "metadata": {
        "id": "1pfCY9w04nCN",
        "colab": {
          "base_uri": "https://localhost:8080/"
        },
        "outputId": "52b98c34-973e-439e-8ca0-b63e1fdcf2e7"
      },
      "source": [
        "def countOccurences(x, arr):\n",
        "  # code của bạn ở đây\n",
        "  count=0\n",
        "  for i in range(len(arr)):\n",
        "    if ( arr[i]==x):count = count +1\n",
        "  return count\n",
        "arr = [1,2,4,2,6,2,5,2]\n",
        "x = 2\n",
        "print(countOccurences(x,arr))\n"
      ],
      "execution_count": null,
      "outputs": [
        {
          "output_type": "stream",
          "name": "stdout",
          "text": [
            "4\n"
          ]
        }
      ]
    },
    {
      "cell_type": "markdown",
      "metadata": {
        "id": "IQX-kblX6FFL"
      },
      "source": [
        "## Loại bỏ các phần tử trùng\n",
        "\n",
        "Viết hàm loại bỏ các phần tử trùng của một dãy cho trước. Dãy trả về bao gồm các phần tử chỉ xuất hiện một lần\n",
        "\n",
        "* Input: 10, 20, 30, 20, 20, 30, 40, 50, -20, 60, 60, -20, -20\n",
        "* Output: 10, 20, 30, 40, 50, -20, 60\n"
      ]
    },
    {
      "cell_type": "code",
      "metadata": {
        "id": "9-pRgu5w6P3w",
        "colab": {
          "base_uri": "https://localhost:8080/"
        },
        "outputId": "d33a6865-19e5-4a19-c9cc-427ee32c441e"
      },
      "source": [
        "def removeDuplicates(n):\n",
        "  # code của bạn ở đây\n",
        "  s = dict.fromkeys(n)\n",
        "  arr = list(s)\n",
        "  return arr\n",
        "arr =[10, 20, 30, 20, 20, 30, 40, 50, -20, 60, 60, -20, -20]\n",
        "arr = removeDuplicates(arr)\n",
        "print(arr)"
      ],
      "execution_count": null,
      "outputs": [
        {
          "output_type": "stream",
          "name": "stdout",
          "text": [
            "[10, 20, 30, 40, 50, -20, 60]\n"
          ]
        }
      ]
    },
    {
      "cell_type": "markdown",
      "metadata": {
        "id": "5A5TZTYJ2Kae"
      },
      "source": [
        "## Tìm N số lớn nhất trong dãy\n",
        "\n",
        "Viết hàm trả về N số lớn nhất trong dãy cho trước\n",
        "\n",
        "* Input: 4, 5, 1, 2, 9 và N=2\n",
        "* Output: 9, 5"
      ]
    },
    {
      "cell_type": "code",
      "metadata": {
        "id": "K2ydHtRR3ebu",
        "colab": {
          "base_uri": "https://localhost:8080/"
        },
        "outputId": "59a9ca33-d327-4f3c-f675-47a453669cd6"
      },
      "source": [
        "def findNLargestElements(N, arr):\n",
        "  # code của bạn ở đây\n",
        "  temp=[]\n",
        "  arr1 = sorted(arr)\n",
        "  for i in range(N):\n",
        "    temp.append(arr1[-1])\n",
        "    arr1.remove(arr1[-1])\n",
        "  return temp\n",
        "arr=[4, 5, 1, 2, 9]\n",
        "N = 2\n",
        "findNLargestElements(N,arr)"
      ],
      "execution_count": 15,
      "outputs": [
        {
          "output_type": "execute_result",
          "data": {
            "text/plain": [
              "[9, 5]"
            ]
          },
          "metadata": {},
          "execution_count": 15
        }
      ]
    },
    {
      "cell_type": "markdown",
      "metadata": {
        "id": "xXSKpzjJ2Wt4"
      },
      "source": [
        "## Tính tổng tích luỹ\n",
        "\n",
        "Viết hàm tính tổng tích luỹ của một dãy. \n",
        "\n",
        "Phần tử thứ $i$ của dãy đầu ra bằng tổng các phần tử $i, i-1, i-2, ...$ của dãy đầu vào\n",
        "\n",
        "* Input: 10, 20, 30, 40, 50\n",
        "* Output: 10, 30, 60, 100, 150"
      ]
    },
    {
      "cell_type": "code",
      "metadata": {
        "id": "RfQ2N2Ty3oLy",
        "colab": {
          "base_uri": "https://localhost:8080/"
        },
        "outputId": "e7e650fc-1c8e-4b01-8785-e331805aeb3c"
      },
      "source": [
        "def calcCumulativeSum(N, arr):\n",
        "  # code của bạn ở đây\n",
        "  sum = 0\n",
        "  for i in range(len(arr)):\n",
        "    arr[i] = sum + arr[i]\n",
        "    sum = arr[i]\n",
        "  return arr\n",
        "arr = [10, 20, 30, 40, 50]\n",
        "print(calcCumulativeSum(0,arr))"
      ],
      "execution_count": 4,
      "outputs": [
        {
          "output_type": "stream",
          "name": "stdout",
          "text": [
            "[10, 30, 60, 100, 150]\n"
          ]
        }
      ]
    },
    {
      "cell_type": "markdown",
      "metadata": {
        "id": "a72UHNxW3OmA"
      },
      "source": [
        "## Xoá một số phần tử của dãy\n",
        "\n",
        "Viết hàm xoá một số phần tử của dãy\n",
        "\n",
        "* Input: 12, 15, 3, 10 và 12 và 3 là các phần tử cần xoá\n",
        "* Output: 15, 10"
      ]
    },
    {
      "cell_type": "code",
      "metadata": {
        "id": "PkwKGvI74AHU",
        "colab": {
          "base_uri": "https://localhost:8080/"
        },
        "outputId": "6fea00f2-c875-4ed8-cead-80d333a90dfb"
      },
      "source": [
        "def removeElemetns(arrInput, arrRemove):\n",
        "  # code của bạn ở đây\n",
        "  for i in arrRemove:\n",
        "    if (i in arrInput)== True: \n",
        "      arrInput.remove(i)\n",
        "  return arrInput\n",
        "  \n",
        "arrInput = [12, 15, 3, 10]\n",
        "arrRemove = [12, 3]\n",
        "print(removeElemetns(arrInput, arrRemove))"
      ],
      "execution_count": 16,
      "outputs": [
        {
          "output_type": "stream",
          "name": "stdout",
          "text": [
            "[15, 10]\n"
          ]
        }
      ]
    }
  ]
}